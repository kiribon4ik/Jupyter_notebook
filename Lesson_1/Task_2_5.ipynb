{
  "cells": [
    {
      "metadata": {
        "collapsed": true
      },
      "cell_type": "markdown",
      "source": "Задание 5**\n\nСоздайте новый столбец в датафрейме authors_price под названием cover, в нем будут располагаться данные о том, какая обложка у данной книги - твердая или мягкая. В этот столбец поместите данные из следующего списка:\n['твердая', 'мягкая', 'мягкая', 'твердая', 'твердая', 'мягкая', 'мягкая'].\nПросмотрите документацию по функции pd.pivot_table с помощью вопросительного знака.Для каждого автора посчитайте суммарную стоимость книг в твердой и мягкой обложке. Используйте для этого функцию pd.pivot_table. При этом столбцы должны называться \"твердая\" и \"мягкая\", а индексами должны быть фамилии авторов. Пропущенные значения стоимостей заполните нулями, при необходимости загрузите библиотеку Numpy.\nНазовите полученный датасет book_info и сохраните его в формат pickle под названием \"book_info.pkl\". Затем загрузите из этого файла датафрейм и назовите его book_info2. Удостоверьтесь, что датафреймы book_info и book_info2 идентичны.\n"
    },
    {
      "metadata": {
        "trusted": true
      },
      "cell_type": "code",
      "source": "import numpy as np\nimport pandas as pd",
      "execution_count": 1,
      "outputs": []
    },
    {
      "metadata": {
        "trusted": true
      },
      "cell_type": "code",
      "source": "authors = pd.DataFrame({'author_id':[1, 2, 3],\n                        'author_name':['Тургенев', \n                                       'Чехов', \n                                       'Островский']},\n                        columns=['author_id', 'author_name'])\nauthors.set_index('author_id', inplace=True)\nauthors",
      "execution_count": 2,
      "outputs": [
        {
          "output_type": "execute_result",
          "execution_count": 2,
          "data": {
            "text/html": "<div>\n<style scoped>\n    .dataframe tbody tr th:only-of-type {\n        vertical-align: middle;\n    }\n\n    .dataframe tbody tr th {\n        vertical-align: top;\n    }\n\n    .dataframe thead th {\n        text-align: right;\n    }\n</style>\n<table border=\"1\" class=\"dataframe\">\n  <thead>\n    <tr style=\"text-align: right;\">\n      <th></th>\n      <th>author_name</th>\n    </tr>\n    <tr>\n      <th>author_id</th>\n      <th></th>\n    </tr>\n  </thead>\n  <tbody>\n    <tr>\n      <th>1</th>\n      <td>Тургенев</td>\n    </tr>\n    <tr>\n      <th>2</th>\n      <td>Чехов</td>\n    </tr>\n    <tr>\n      <th>3</th>\n      <td>Островский</td>\n    </tr>\n  </tbody>\n</table>\n</div>",
            "text/plain": "          author_name\nauthor_id            \n1            Тургенев\n2               Чехов\n3          Островский"
          },
          "metadata": {}
        }
      ]
    },
    {
      "metadata": {
        "trusted": true
      },
      "cell_type": "code",
      "source": "books = pd.DataFrame({'author_id':[1, 1, 1, 2, 2, 3, 3],\n                     'book_title':['Отцы и дети', \n                                   'Рудин', \n                                   'Дворянское гнездо', \n                                   'Толстый и тонкий', \n                                   'Дама с собачкой', \n                                   'Гроза', \n                                   'Таланты и поклонники'],\n                     'price':[450, 300, 350, 500, 450, 370, 290]},\n                     columns=['author_id', 'book_title', 'price'])\nbooks.set_index('author_id', inplace=True)\nbooks",
      "execution_count": 3,
      "outputs": [
        {
          "output_type": "execute_result",
          "execution_count": 3,
          "data": {
            "text/html": "<div>\n<style scoped>\n    .dataframe tbody tr th:only-of-type {\n        vertical-align: middle;\n    }\n\n    .dataframe tbody tr th {\n        vertical-align: top;\n    }\n\n    .dataframe thead th {\n        text-align: right;\n    }\n</style>\n<table border=\"1\" class=\"dataframe\">\n  <thead>\n    <tr style=\"text-align: right;\">\n      <th></th>\n      <th>book_title</th>\n      <th>price</th>\n    </tr>\n    <tr>\n      <th>author_id</th>\n      <th></th>\n      <th></th>\n    </tr>\n  </thead>\n  <tbody>\n    <tr>\n      <th>1</th>\n      <td>Отцы и дети</td>\n      <td>450</td>\n    </tr>\n    <tr>\n      <th>1</th>\n      <td>Рудин</td>\n      <td>300</td>\n    </tr>\n    <tr>\n      <th>1</th>\n      <td>Дворянское гнездо</td>\n      <td>350</td>\n    </tr>\n    <tr>\n      <th>2</th>\n      <td>Толстый и тонкий</td>\n      <td>500</td>\n    </tr>\n    <tr>\n      <th>2</th>\n      <td>Дама с собачкой</td>\n      <td>450</td>\n    </tr>\n    <tr>\n      <th>3</th>\n      <td>Гроза</td>\n      <td>370</td>\n    </tr>\n    <tr>\n      <th>3</th>\n      <td>Таланты и поклонники</td>\n      <td>290</td>\n    </tr>\n  </tbody>\n</table>\n</div>",
            "text/plain": "                     book_title  price\nauthor_id                             \n1                   Отцы и дети    450\n1                         Рудин    300\n1             Дворянское гнездо    350\n2              Толстый и тонкий    500\n2               Дама с собачкой    450\n3                         Гроза    370\n3          Таланты и поклонники    290"
          },
          "metadata": {}
        }
      ]
    },
    {
      "metadata": {
        "trusted": true
      },
      "cell_type": "code",
      "source": "authors_price = pd.merge(authors, books, on = 'author_id', how='outer')\nauthors_price['cover'] = ['твердая', 'мягкая', 'мягкая', 'твердая', 'твердая', 'мягкая', 'мягкая']\nauthors_price",
      "execution_count": 4,
      "outputs": [
        {
          "output_type": "execute_result",
          "execution_count": 4,
          "data": {
            "text/html": "<div>\n<style scoped>\n    .dataframe tbody tr th:only-of-type {\n        vertical-align: middle;\n    }\n\n    .dataframe tbody tr th {\n        vertical-align: top;\n    }\n\n    .dataframe thead th {\n        text-align: right;\n    }\n</style>\n<table border=\"1\" class=\"dataframe\">\n  <thead>\n    <tr style=\"text-align: right;\">\n      <th></th>\n      <th>author_name</th>\n      <th>book_title</th>\n      <th>price</th>\n      <th>cover</th>\n    </tr>\n    <tr>\n      <th>author_id</th>\n      <th></th>\n      <th></th>\n      <th></th>\n      <th></th>\n    </tr>\n  </thead>\n  <tbody>\n    <tr>\n      <th>1</th>\n      <td>Тургенев</td>\n      <td>Отцы и дети</td>\n      <td>450</td>\n      <td>твердая</td>\n    </tr>\n    <tr>\n      <th>1</th>\n      <td>Тургенев</td>\n      <td>Рудин</td>\n      <td>300</td>\n      <td>мягкая</td>\n    </tr>\n    <tr>\n      <th>1</th>\n      <td>Тургенев</td>\n      <td>Дворянское гнездо</td>\n      <td>350</td>\n      <td>мягкая</td>\n    </tr>\n    <tr>\n      <th>2</th>\n      <td>Чехов</td>\n      <td>Толстый и тонкий</td>\n      <td>500</td>\n      <td>твердая</td>\n    </tr>\n    <tr>\n      <th>2</th>\n      <td>Чехов</td>\n      <td>Дама с собачкой</td>\n      <td>450</td>\n      <td>твердая</td>\n    </tr>\n    <tr>\n      <th>3</th>\n      <td>Островский</td>\n      <td>Гроза</td>\n      <td>370</td>\n      <td>мягкая</td>\n    </tr>\n    <tr>\n      <th>3</th>\n      <td>Островский</td>\n      <td>Таланты и поклонники</td>\n      <td>290</td>\n      <td>мягкая</td>\n    </tr>\n  </tbody>\n</table>\n</div>",
            "text/plain": "          author_name            book_title  price    cover\nauthor_id                                                  \n1            Тургенев           Отцы и дети    450  твердая\n1            Тургенев                 Рудин    300   мягкая\n1            Тургенев     Дворянское гнездо    350   мягкая\n2               Чехов      Толстый и тонкий    500  твердая\n2               Чехов       Дама с собачкой    450  твердая\n3          Островский                 Гроза    370   мягкая\n3          Островский  Таланты и поклонники    290   мягкая"
          },
          "metadata": {}
        }
      ]
    },
    {
      "metadata": {
        "trusted": true
      },
      "cell_type": "code",
      "source": "?pd.pivot_table",
      "execution_count": 5,
      "outputs": []
    },
    {
      "metadata": {
        "trusted": true
      },
      "cell_type": "code",
      "source": "book_info = pd.pivot_table(authors_price, values='price', index=['author_name', 'cover'], columns='cover', aggfunc=np.sum)\nbook_info",
      "execution_count": 6,
      "outputs": [
        {
          "output_type": "execute_result",
          "execution_count": 6,
          "data": {
            "text/html": "<div>\n<style scoped>\n    .dataframe tbody tr th:only-of-type {\n        vertical-align: middle;\n    }\n\n    .dataframe tbody tr th {\n        vertical-align: top;\n    }\n\n    .dataframe thead th {\n        text-align: right;\n    }\n</style>\n<table border=\"1\" class=\"dataframe\">\n  <thead>\n    <tr style=\"text-align: right;\">\n      <th></th>\n      <th>cover</th>\n      <th>мягкая</th>\n      <th>твердая</th>\n    </tr>\n    <tr>\n      <th>author_name</th>\n      <th>cover</th>\n      <th></th>\n      <th></th>\n    </tr>\n  </thead>\n  <tbody>\n    <tr>\n      <th>Островский</th>\n      <th>мягкая</th>\n      <td>660.0</td>\n      <td>NaN</td>\n    </tr>\n    <tr>\n      <th rowspan=\"2\" valign=\"top\">Тургенев</th>\n      <th>мягкая</th>\n      <td>650.0</td>\n      <td>NaN</td>\n    </tr>\n    <tr>\n      <th>твердая</th>\n      <td>NaN</td>\n      <td>450.0</td>\n    </tr>\n    <tr>\n      <th>Чехов</th>\n      <th>твердая</th>\n      <td>NaN</td>\n      <td>950.0</td>\n    </tr>\n  </tbody>\n</table>\n</div>",
            "text/plain": "cover                мягкая  твердая\nauthor_name cover                   \nОстровский  мягкая    660.0      NaN\nТургенев    мягкая    650.0      NaN\n            твердая     NaN    450.0\nЧехов       твердая     NaN    950.0"
          },
          "metadata": {}
        }
      ]
    },
    {
      "metadata": {
        "trusted": true
      },
      "cell_type": "code",
      "source": "book_info['мягкая'].fillna(0, inplace=True)\nbook_info['твердая'].fillna(0, inplace=True) \nbook_info",
      "execution_count": 7,
      "outputs": [
        {
          "output_type": "execute_result",
          "execution_count": 7,
          "data": {
            "text/html": "<div>\n<style scoped>\n    .dataframe tbody tr th:only-of-type {\n        vertical-align: middle;\n    }\n\n    .dataframe tbody tr th {\n        vertical-align: top;\n    }\n\n    .dataframe thead th {\n        text-align: right;\n    }\n</style>\n<table border=\"1\" class=\"dataframe\">\n  <thead>\n    <tr style=\"text-align: right;\">\n      <th></th>\n      <th>cover</th>\n      <th>мягкая</th>\n      <th>твердая</th>\n    </tr>\n    <tr>\n      <th>author_name</th>\n      <th>cover</th>\n      <th></th>\n      <th></th>\n    </tr>\n  </thead>\n  <tbody>\n    <tr>\n      <th>Островский</th>\n      <th>мягкая</th>\n      <td>660.0</td>\n      <td>0.0</td>\n    </tr>\n    <tr>\n      <th rowspan=\"2\" valign=\"top\">Тургенев</th>\n      <th>мягкая</th>\n      <td>650.0</td>\n      <td>0.0</td>\n    </tr>\n    <tr>\n      <th>твердая</th>\n      <td>0.0</td>\n      <td>450.0</td>\n    </tr>\n    <tr>\n      <th>Чехов</th>\n      <th>твердая</th>\n      <td>0.0</td>\n      <td>950.0</td>\n    </tr>\n  </tbody>\n</table>\n</div>",
            "text/plain": "cover                мягкая  твердая\nauthor_name cover                   \nОстровский  мягкая    660.0      0.0\nТургенев    мягкая    650.0      0.0\n            твердая     0.0    450.0\nЧехов       твердая     0.0    950.0"
          },
          "metadata": {}
        }
      ]
    },
    {
      "metadata": {
        "trusted": true
      },
      "cell_type": "code",
      "source": "book_info.to_pickle('book_info.pkl')",
      "execution_count": 8,
      "outputs": []
    },
    {
      "metadata": {
        "trusted": true
      },
      "cell_type": "code",
      "source": "book_info_2 = pd.read_pickle('book_info.pkl')",
      "execution_count": 9,
      "outputs": []
    },
    {
      "metadata": {
        "trusted": true
      },
      "cell_type": "code",
      "source": "book_info == book_info_2",
      "execution_count": 10,
      "outputs": [
        {
          "output_type": "execute_result",
          "execution_count": 10,
          "data": {
            "text/html": "<div>\n<style scoped>\n    .dataframe tbody tr th:only-of-type {\n        vertical-align: middle;\n    }\n\n    .dataframe tbody tr th {\n        vertical-align: top;\n    }\n\n    .dataframe thead th {\n        text-align: right;\n    }\n</style>\n<table border=\"1\" class=\"dataframe\">\n  <thead>\n    <tr style=\"text-align: right;\">\n      <th></th>\n      <th>cover</th>\n      <th>мягкая</th>\n      <th>твердая</th>\n    </tr>\n    <tr>\n      <th>author_name</th>\n      <th>cover</th>\n      <th></th>\n      <th></th>\n    </tr>\n  </thead>\n  <tbody>\n    <tr>\n      <th>Островский</th>\n      <th>мягкая</th>\n      <td>True</td>\n      <td>True</td>\n    </tr>\n    <tr>\n      <th rowspan=\"2\" valign=\"top\">Тургенев</th>\n      <th>мягкая</th>\n      <td>True</td>\n      <td>True</td>\n    </tr>\n    <tr>\n      <th>твердая</th>\n      <td>True</td>\n      <td>True</td>\n    </tr>\n    <tr>\n      <th>Чехов</th>\n      <th>твердая</th>\n      <td>True</td>\n      <td>True</td>\n    </tr>\n  </tbody>\n</table>\n</div>",
            "text/plain": "cover                мягкая  твердая\nauthor_name cover                   \nОстровский  мягкая     True     True\nТургенев    мягкая     True     True\n            твердая    True     True\nЧехов       твердая    True     True"
          },
          "metadata": {}
        }
      ]
    }
  ],
  "metadata": {
    "kernelspec": {
      "name": "python36",
      "display_name": "Python 3.6",
      "language": "python"
    },
    "language_info": {
      "mimetype": "text/x-python",
      "nbconvert_exporter": "python",
      "name": "python",
      "pygments_lexer": "ipython3",
      "version": "3.6.6",
      "file_extension": ".py",
      "codemirror_mode": {
        "version": 3,
        "name": "ipython"
      }
    }
  },
  "nbformat": 4,
  "nbformat_minor": 2
}