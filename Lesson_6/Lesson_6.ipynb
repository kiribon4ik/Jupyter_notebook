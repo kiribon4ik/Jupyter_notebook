{
  "cells": [
    {
      "metadata": {
        "collapsed": true
      },
      "cell_type": "markdown",
      "source": "# Задание 1\n\nИмпортируйте библиотеки pandas и numpy.\nЗагрузите \"Boston House Prices dataset\" из встроенных наборов данных библиотеки sklearn. Создайте датафреймы X и y из этих данных.\nРазбейте эти датафреймы на тренировочные (X_train, y_train) и тестовые (X_test, y_test) с помощью функции train_test_split так, чтобы размер тестовой выборки\nсоставлял 30% от всех данных, при этом аргумент random_state должен быть равен 42.\nСоздайте модель линейной регрессии под названием lr с помощью класса LinearRegression из модуля sklearn.linear_model.\nОбучите модель на тренировочных данных (используйте все признаки) и сделайте предсказание на тестовых.\nВычислите R2 полученных предказаний с помощью r2_score из модуля sklearn.metrics."
    },
    {
      "metadata": {
        "trusted": true
      },
      "cell_type": "code",
      "source": "import numpy as np\nimport pandas as pd\nimport matplotlib.pyplot as plt\nfrom sklearn.datasets import load_boston\nfrom sklearn.model_selection import train_test_split\nfrom sklearn.linear_model import LinearRegression\nfrom sklearn.metrics import r2_score\n\n%matplotlib inline",
      "execution_count": 1,
      "outputs": []
    },
    {
      "metadata": {
        "trusted": true
      },
      "cell_type": "code",
      "source": "boston = load_boston()",
      "execution_count": 2,
      "outputs": []
    },
    {
      "metadata": {
        "trusted": true,
        "scrolled": true
      },
      "cell_type": "code",
      "source": "boston.keys()",
      "execution_count": 3,
      "outputs": [
        {
          "output_type": "execute_result",
          "execution_count": 3,
          "data": {
            "text/plain": "dict_keys(['data', 'target', 'feature_names', 'DESCR', 'filename'])"
          },
          "metadata": {}
        }
      ]
    },
    {
      "metadata": {
        "trusted": true
      },
      "cell_type": "code",
      "source": "data = boston.data # Данные о недвижимости \nfeature_names = boston.feature_names # Название признаков\ntarget = boston.target # Цена на недвижимость",
      "execution_count": 4,
      "outputs": []
    },
    {
      "metadata": {
        "trusted": true
      },
      "cell_type": "code",
      "source": "# Создадим датафрейм X и y\nX = pd.DataFrame(data, columns=feature_names)\ny = pd.DataFrame(target, columns=['Price'])",
      "execution_count": 5,
      "outputs": []
    },
    {
      "metadata": {
        "trusted": true
      },
      "cell_type": "code",
      "source": "# Разобьем датафреймы на тренировочные (X_train, y_train) и тестовые (X_test, y_test) \nX_train, X_test, y_train, y_test = train_test_split(X, y, test_size=0.3, random_state=42)",
      "execution_count": 6,
      "outputs": []
    },
    {
      "metadata": {
        "trusted": true
      },
      "cell_type": "code",
      "source": "# Создаем модель линейной регрессии\nlr = LinearRegression()",
      "execution_count": 7,
      "outputs": []
    },
    {
      "metadata": {
        "trusted": true
      },
      "cell_type": "code",
      "source": "# Обучем модель на тренировочных данных\nlr.fit(X_train, y_train)",
      "execution_count": 8,
      "outputs": [
        {
          "output_type": "execute_result",
          "execution_count": 8,
          "data": {
            "text/plain": "LinearRegression(copy_X=True, fit_intercept=True, n_jobs=None,\n         normalize=False)"
          },
          "metadata": {}
        }
      ]
    },
    {
      "metadata": {
        "trusted": true
      },
      "cell_type": "code",
      "source": "# Спрогнозируем цены y_pred на тестовых данных X_test\ny_pred_reg = lr.predict(X_test)",
      "execution_count": 9,
      "outputs": []
    },
    {
      "metadata": {
        "trusted": true
      },
      "cell_type": "code",
      "source": "# Проведем визуальную оценку предсказанных данных\ncheck_test_reg = pd.DataFrame({'y_test':y_test['Price'],\n                          'y_pred_reg':y_pred_reg.flatten()}, columns=['y_test', 'y_pred_reg'])",
      "execution_count": 10,
      "outputs": []
    },
    {
      "metadata": {
        "trusted": true
      },
      "cell_type": "code",
      "source": "check_test_reg.head()",
      "execution_count": 11,
      "outputs": [
        {
          "output_type": "execute_result",
          "execution_count": 11,
          "data": {
            "text/html": "<div>\n<style scoped>\n    .dataframe tbody tr th:only-of-type {\n        vertical-align: middle;\n    }\n\n    .dataframe tbody tr th {\n        vertical-align: top;\n    }\n\n    .dataframe thead th {\n        text-align: right;\n    }\n</style>\n<table border=\"1\" class=\"dataframe\">\n  <thead>\n    <tr style=\"text-align: right;\">\n      <th></th>\n      <th>y_test</th>\n      <th>y_pred_reg</th>\n    </tr>\n  </thead>\n  <tbody>\n    <tr>\n      <th>173</th>\n      <td>23.6</td>\n      <td>28.648960</td>\n    </tr>\n    <tr>\n      <th>274</th>\n      <td>32.4</td>\n      <td>36.495014</td>\n    </tr>\n    <tr>\n      <th>491</th>\n      <td>13.6</td>\n      <td>15.411193</td>\n    </tr>\n    <tr>\n      <th>72</th>\n      <td>22.8</td>\n      <td>25.403213</td>\n    </tr>\n    <tr>\n      <th>452</th>\n      <td>16.1</td>\n      <td>18.855280</td>\n    </tr>\n  </tbody>\n</table>\n</div>",
            "text/plain": "     y_test  y_pred_reg\n173    23.6   28.648960\n274    32.4   36.495014\n491    13.6   15.411193\n72     22.8   25.403213\n452    16.1   18.855280"
          },
          "metadata": {}
        }
      ]
    },
    {
      "metadata": {
        "trusted": true
      },
      "cell_type": "code",
      "source": "R2_reg = r2_score(y_test['Price'], y_pred_reg.flatten())\nR2_reg",
      "execution_count": 12,
      "outputs": [
        {
          "output_type": "execute_result",
          "execution_count": 12,
          "data": {
            "text/plain": "0.711226005748496"
          },
          "metadata": {}
        }
      ]
    },
    {
      "metadata": {},
      "cell_type": "markdown",
      "source": "# Задание 2\n\nСоздайте модель под названием model с помощью RandomForestRegressor из модуля sklearn.ensemble.\nСделайте агрумент n_estimators равным 1000,\nmax_depth должен быть равен 12 и random_state сделайте равным 42.\nОбучите модель на тренировочных данных аналогично тому, как вы обучали модель LinearRegression,\nно при этом в метод fit вместо датафрейма y_train поставьте y_train.values[:, 0],\nчтобы получить из датафрейма одномерный массив Numpy,\nтак как для класса RandomForestRegressor в данном методе для аргумента y предпочтительно применение массивов вместо датафрейма.\nСделайте предсказание на тестовых данных и посчитайте R2. Сравните с результатом из предыдущего задания.\nНапишите в комментариях к коду, какая модель в данном случае работает лучше."
    },
    {
      "metadata": {
        "trusted": true
      },
      "cell_type": "code",
      "source": "from sklearn.ensemble import RandomForestRegressor\nfrom sklearn.model_selection import GridSearchCV",
      "execution_count": 13,
      "outputs": []
    },
    {
      "metadata": {
        "trusted": true
      },
      "cell_type": "code",
      "source": "# Создаем модель с использованием RandomForestRegressor\nmodel = RandomForestRegressor(n_estimators=1000, max_depth=12, random_state=42)",
      "execution_count": 14,
      "outputs": []
    },
    {
      "metadata": {
        "trusted": true
      },
      "cell_type": "code",
      "source": "# Обучим модель на тренировочных данных\nmodel.fit(X_train, y_train.values[:,0])",
      "execution_count": 15,
      "outputs": [
        {
          "output_type": "execute_result",
          "execution_count": 15,
          "data": {
            "text/plain": "RandomForestRegressor(bootstrap=True, criterion='mse', max_depth=12,\n           max_features='auto', max_leaf_nodes=None,\n           min_impurity_decrease=0.0, min_impurity_split=None,\n           min_samples_leaf=1, min_samples_split=2,\n           min_weight_fraction_leaf=0.0, n_estimators=1000, n_jobs=None,\n           oob_score=False, random_state=42, verbose=0, warm_start=False)"
          },
          "metadata": {}
        }
      ]
    },
    {
      "metadata": {
        "trusted": true
      },
      "cell_type": "code",
      "source": "# Сделайте предсказание на тестовых данных\ny_pred_tree = model.predict(X_test)",
      "execution_count": 16,
      "outputs": []
    },
    {
      "metadata": {
        "trusted": true
      },
      "cell_type": "code",
      "source": "# Проведем визуальную оценку предсказанных данных\ncheck_test_tree = pd.DataFrame({'y_test':y_test['Price'],\n                          'y_pred_tree':y_pred_tree}, columns=['y_test', 'y_pred_tree'])\ncheck_test_tree.head()",
      "execution_count": 17,
      "outputs": [
        {
          "output_type": "execute_result",
          "execution_count": 17,
          "data": {
            "text/html": "<div>\n<style scoped>\n    .dataframe tbody tr th:only-of-type {\n        vertical-align: middle;\n    }\n\n    .dataframe tbody tr th {\n        vertical-align: top;\n    }\n\n    .dataframe thead th {\n        text-align: right;\n    }\n</style>\n<table border=\"1\" class=\"dataframe\">\n  <thead>\n    <tr style=\"text-align: right;\">\n      <th></th>\n      <th>y_test</th>\n      <th>y_pred_tree</th>\n    </tr>\n  </thead>\n  <tbody>\n    <tr>\n      <th>173</th>\n      <td>23.6</td>\n      <td>22.846138</td>\n    </tr>\n    <tr>\n      <th>274</th>\n      <td>32.4</td>\n      <td>31.156114</td>\n    </tr>\n    <tr>\n      <th>491</th>\n      <td>13.6</td>\n      <td>16.297226</td>\n    </tr>\n    <tr>\n      <th>72</th>\n      <td>22.8</td>\n      <td>23.821036</td>\n    </tr>\n    <tr>\n      <th>452</th>\n      <td>16.1</td>\n      <td>17.212148</td>\n    </tr>\n  </tbody>\n</table>\n</div>",
            "text/plain": "     y_test  y_pred_tree\n173    23.6    22.846138\n274    32.4    31.156114\n491    13.6    16.297226\n72     22.8    23.821036\n452    16.1    17.212148"
          },
          "metadata": {}
        }
      ]
    },
    {
      "metadata": {
        "trusted": true
      },
      "cell_type": "code",
      "source": "R2_tree = r2_score(y_test['Price'], y_pred_tree)\nR2_tree",
      "execution_count": 18,
      "outputs": [
        {
          "output_type": "execute_result",
          "execution_count": 18,
          "data": {
            "text/plain": "0.8749965273218174"
          },
          "metadata": {}
        }
      ]
    },
    {
      "metadata": {},
      "cell_type": "markdown",
      "source": "В данном случае, по метрике R^2, модель постороенная с помощью RandomForestRegressor работает лучше, чем LinearRegression, так как R2_tree > R2_reg"
    },
    {
      "metadata": {},
      "cell_type": "markdown",
      "source": "# Задание 3\n\nВызовите документацию для класса RandomForestRegressor,\nнайдите информацию об атрибуте feature_importances_.\nС помощью этого атрибута найдите сумму всех показателей важности,\nустановите, какие два признака показывают наибольшую важность."
    },
    {
      "metadata": {
        "trusted": true
      },
      "cell_type": "code",
      "source": "?RandomForestRegressor",
      "execution_count": 19,
      "outputs": []
    },
    {
      "metadata": {
        "trusted": true
      },
      "cell_type": "code",
      "source": "# Определим сумму всех показателей важности\nprint(f'Сумма всех показателей важности: {sum(model.feature_importances_):.4}')",
      "execution_count": 20,
      "outputs": [
        {
          "output_type": "stream",
          "text": "Сумма всех показателей важности: 1.0\n",
          "name": "stdout"
        }
      ]
    },
    {
      "metadata": {
        "trusted": true
      },
      "cell_type": "code",
      "source": "# Определим два наиболее значимых признака \nnum_largest = 2\nindices = (-model.feature_importances_).argpartition(num_largest, axis=None)[:num_largest]\nprint(f'Наиболее значимые два признака: {feature_names[indices][0]}, {feature_names[indices][1]}')",
      "execution_count": 21,
      "outputs": [
        {
          "output_type": "stream",
          "text": "Наиболее значимые два признака: LSTAT, RM\n",
          "name": "stdout"
        }
      ]
    }
  ],
  "metadata": {
    "kernelspec": {
      "name": "python36",
      "display_name": "Python 3.6",
      "language": "python"
    },
    "language_info": {
      "mimetype": "text/x-python",
      "nbconvert_exporter": "python",
      "name": "python",
      "pygments_lexer": "ipython3",
      "version": "3.6.6",
      "file_extension": ".py",
      "codemirror_mode": {
        "version": 3,
        "name": "ipython"
      }
    }
  },
  "nbformat": 4,
  "nbformat_minor": 2
}